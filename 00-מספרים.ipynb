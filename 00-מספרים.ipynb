{
 "cells": [
  {
   "cell_type": "markdown",
   "metadata": {},
   "source": [
    "# מספרים ועוד בפייתון\n",
    "\n",
    "בהרצאה זו נלמד על מספרים בפיתון וכיצד להשתמש בהם.\n",
    "\n",
    "נלמד על הנושאים הבאים:\n",
    "\n",
    "     1.) סוגי מספרים בפיתון\n",
    "     2.)  )חשבון אקדמי\n",
    "     3.) הבדלים בין חלוקה קלאסית לחלוקת רצפה\n",
    "     4.) הקצאת אובייקטים בפייתון"
   ]
  },
  {
   "cell_type": "markdown",
   "metadata": {},
   "source": [
    "## סוגי מספרים\n",
    "\n",
    "לפיתון \"סוגים\" שונים של מספרים (מילוליות מספרית). נתמקד בעיקר במספרים שלמים ומספרי נקודות צפות.\n",
    "\n",
    "מספרים שלמים הם רק מספרים שלמים, חיוביים או שליליים. לדוגמה: 2 ו -2 הם דוגמאות למספרים שלמים.\n",
    "\n",
    "מספרי נקודות נקודה צפות בפיתון בולטים מכיוון שיש בהם נקודה עשרונית, או משתמשים במערך (e) כדי להגדיר את המספר. לדוגמה 2.0 ו -2.1 הם דוגמאות למספרי נקודות צפות. 4E2 (4 פעמים 10 לכוח של 2) הוא גם דוגמא למספר של נקודה צפה בפיתון.\n",
    "\n",
    "לאורך קורס זה נעבוד בעיקר עם מספרים שלמים או סוגים פשוטים של מספרים צפים.\n",
    "\n",
    "להלן טבלה של שני הסוגים העיקריים שנבזבז את רוב זמננו בעבודה עם כמה דוגמאות:\n"
   ]
  },
  {
   "cell_type": "markdown",
   "metadata": {},
   "source": [
    "<table>\n",
    "<tr>\n",
    "    <th>Examples</th> \n",
    "    <th>Number \"Type\"</th>\n",
    "</tr>\n",
    "\n",
    "<tr>\n",
    "    <td>1,2,-5,1000</td>\n",
    "    <td>Integers</td> \n",
    "</tr>\n",
    "\n",
    "<tr>\n",
    "    <td>1.2,-0.5,2e2,3E2</td> \n",
    "    <td>Floating-point numbers</td> \n",
    "</tr>\n",
    " </table>"
   ]
  },
  {
   "cell_type": "markdown",
   "metadata": {},
   "source": [
    "בוא נתחיל במספר פעולות חשבון"
   ]
  },
  {
   "cell_type": "markdown",
   "metadata": {},
   "source": [
    "## פעולות בסיסיות בחשבון"
   ]
  },
  {
   "cell_type": "code",
   "execution_count": 3,
   "metadata": {},
   "outputs": [
    {
     "data": {
      "text/plain": [
       "3"
      ]
     },
     "execution_count": 3,
     "metadata": {},
     "output_type": "execute_result"
    }
   ],
   "source": [
    "# חיבור\n",
    "2+1"
   ]
  },
  {
   "cell_type": "code",
   "execution_count": 2,
   "metadata": {},
   "outputs": [
    {
     "data": {
      "text/plain": [
       "1"
      ]
     },
     "execution_count": 2,
     "metadata": {},
     "output_type": "execute_result"
    }
   ],
   "source": [
    "# חיסור\n",
    "2-1"
   ]
  },
  {
   "cell_type": "code",
   "execution_count": 3,
   "metadata": {},
   "outputs": [
    {
     "data": {
      "text/plain": [
       "4"
      ]
     },
     "execution_count": 3,
     "metadata": {},
     "output_type": "execute_result"
    }
   ],
   "source": [
    "# כפל\n",
    "2*2"
   ]
  },
  {
   "cell_type": "code",
   "execution_count": 4,
   "metadata": {},
   "outputs": [
    {
     "data": {
      "text/plain": [
       "1.5"
      ]
     },
     "execution_count": 4,
     "metadata": {},
     "output_type": "execute_result"
    }
   ],
   "source": [
    "# חילוק\n",
    "3/2"
   ]
  },
  {
   "cell_type": "code",
   "execution_count": 4,
   "metadata": {},
   "outputs": [
    {
     "data": {
      "text/plain": [
       "1"
      ]
     },
     "execution_count": 4,
     "metadata": {},
     "output_type": "execute_result"
    }
   ],
   "source": [
    "# חילוק ללא שארית\n",
    "7//4"
   ]
  },
  {
   "cell_type": "code",
   "execution_count": 6,
   "metadata": {},
   "outputs": [
    {
     "data": {
      "text/plain": [
       "3"
      ]
     },
     "execution_count": 6,
     "metadata": {},
     "output_type": "execute_result"
    }
   ],
   "source": [
    "# שארית\n",
    "7%4"
   ]
  },
  {
   "cell_type": "markdown",
   "metadata": {},
   "source": [
    "4 goes into 7 once, with a remainder of 3. The % operator returns the remainder after division."
   ]
  },
  {
   "cell_type": "markdown",
   "metadata": {},
   "source": [
    "### המשך פעולות אריתמטיות"
   ]
  },
  {
   "cell_type": "code",
   "execution_count": 1,
   "metadata": {},
   "outputs": [
    {
     "data": {
      "text/plain": [
       "8"
      ]
     },
     "execution_count": 1,
     "metadata": {},
     "output_type": "execute_result"
    }
   ],
   "source": [
    "#חזקה\n",
    "2**3"
   ]
  },
  {
   "cell_type": "code",
   "execution_count": 6,
   "metadata": {},
   "outputs": [
    {
     "data": {
      "text/plain": [
       "2.0"
      ]
     },
     "execution_count": 6,
     "metadata": {},
     "output_type": "execute_result"
    }
   ],
   "source": [
    "# שורש/ שבר חזקה\n",
    "4**0.5 "
   ]
  },
  {
   "cell_type": "code",
   "execution_count": 6,
   "metadata": {},
   "outputs": [
    {
     "data": {
      "text/plain": [
       "27"
      ]
     },
     "execution_count": 6,
     "metadata": {},
     "output_type": "execute_result"
    }
   ],
   "source": [
    "(3**3)"
   ]
  },
  {
   "cell_type": "code",
   "execution_count": 7,
   "metadata": {},
   "outputs": [
    {
     "data": {
      "text/plain": [
       "105"
      ]
     },
     "execution_count": 7,
     "metadata": {},
     "output_type": "execute_result"
    }
   ],
   "source": [
    "# סדר פעולות חשבון\n",
    "2 + 10 * 10 + 3"
   ]
  },
  {
   "cell_type": "code",
   "execution_count": 8,
   "metadata": {},
   "outputs": [
    {
     "data": {
      "text/plain": [
       "156"
      ]
     },
     "execution_count": 8,
     "metadata": {},
     "output_type": "execute_result"
    }
   ],
   "source": [
    "# שימוש בסוגריים\n",
    "(2+10) * (10+3)"
   ]
  },
  {
   "cell_type": "code",
   "execution_count": null,
   "metadata": {},
   "outputs": [],
   "source": []
  },
  {
   "cell_type": "markdown",
   "metadata": {},
   "source": [
    "##  השמת משתנים\n",
    "\n",
    "כעת, לאחר שראינו כיצד להשתמש במספרים בפייתון כמחשבון בואו נראה כיצד אנו יכולים להקצות שמות וליצור משתנים.\n",
    "\n",
    "אנו משתמשים בסימן שווה יחיד כדי להקצות תוויות למשתנים. בואו נראה כמה דוגמאות כיצד אנו יכולים לעשות זאת."
   ]
  },
  {
   "cell_type": "code",
   "execution_count": 10,
   "metadata": {},
   "outputs": [],
   "source": [
    "# ניצור משתנה עם הספרה 5 ששמו a\n",
    "a = 5"
   ]
  },
  {
   "cell_type": "markdown",
   "metadata": {},
   "source": [
    "נפעיל סקריפט, ונשחק עם המשתנה"
   ]
  },
  {
   "cell_type": "code",
   "execution_count": 12,
   "metadata": {},
   "outputs": [
    {
     "data": {
      "text/plain": [
       "10"
      ]
     },
     "execution_count": 12,
     "metadata": {},
     "output_type": "execute_result"
    }
   ],
   "source": [
    "# Adding the objects\n",
    "a+a"
   ]
  },
  {
   "cell_type": "markdown",
   "metadata": {},
   "source": [
    "השמה מחדש. מה קורה כשמבצעים השמה מחדש? הערך החדש נשמר והקודם נהרס"
   ]
  },
  {
   "cell_type": "code",
   "execution_count": 11,
   "metadata": {},
   "outputs": [],
   "source": [
    "# השמה מחדש\n",
    "a = 10"
   ]
  },
  {
   "cell_type": "code",
   "execution_count": 14,
   "metadata": {},
   "outputs": [
    {
     "data": {
      "text/plain": [
       "10"
      ]
     },
     "execution_count": 14,
     "metadata": {},
     "output_type": "execute_result"
    }
   ],
   "source": [
    "# בדיקה\n",
    "a"
   ]
  },
  {
   "cell_type": "markdown",
   "metadata": {},
   "source": [
    "##### פייתון מאשר השמה מחדש על השמה מחדש על השמה מחדש"
   ]
  },
  {
   "cell_type": "code",
   "execution_count": 15,
   "metadata": {},
   "outputs": [
    {
     "data": {
      "text/plain": [
       "10"
      ]
     },
     "execution_count": 15,
     "metadata": {},
     "output_type": "execute_result"
    }
   ],
   "source": [
    "# Check\n",
    "a"
   ]
  },
  {
   "cell_type": "code",
   "execution_count": 16,
   "metadata": {},
   "outputs": [],
   "source": [
    "# השמה להשמה\n",
    "a = a + a"
   ]
  },
  {
   "cell_type": "code",
   "execution_count": 17,
   "metadata": {},
   "outputs": [
    {
     "data": {
      "text/plain": [
       "20"
      ]
     },
     "execution_count": 17,
     "metadata": {},
     "output_type": "execute_result"
    }
   ],
   "source": [
    "# בדיקה \n",
    "a"
   ]
  },
  {
   "cell_type": "markdown",
   "metadata": {},
   "source": [
    "השמות שבהם אתה משתמש בעת יצירת תוויות אלה צריכים לבצע כמה כללים:\n",
    "\n",
    "     1. שמות לא יכולים להתחיל עם מספר.\n",
    "     2. לא יכולים להיות רווחים בשם, השתמש במקום זאת _.\n",
    "     3. לא ניתן להשתמש באף אחד מהסמלים הבאים: '\", <> /? | \\ ()! @ # $% ^ & * ~ - +\n",
    "     4. זה נחשב לשיטות העבודה המומלצות (PEP8) ששמות הם אותיות קטנות.\n",
    "     5. הימנע משימוש בתווים 'l' (אותיות קטנות el), 'O' (אותיות גדולות אה)\n",
    "        או 'אני' (עין אותיות גדולות) כשמות משתנים של תו יחיד.\n",
    "     6. הימנע משימוש במילים שיש להם משמעות מיוחדת בפייתון כמו \"רשימה\" ו- \"str\"\n",
    "\n",
    "\n",
    "שימוש בשמות משתנים יכול להיות דרך שימושית מאוד לעקוב אחר משתנים שונים בפיתון. לדוגמה:"
   ]
  },
  {
   "cell_type": "code",
   "execution_count": 7,
   "metadata": {},
   "outputs": [],
   "source": [
    "# Use object names to keep better track of what's going on in your code!\n",
    "my_income = 100\n",
    "\n",
    "tax_rate = 0.1\n",
    "\n",
    "my_taxes = my_income*tax_rate"
   ]
  },
  {
   "cell_type": "code",
   "execution_count": 8,
   "metadata": {},
   "outputs": [
    {
     "data": {
      "text/plain": [
       "10.0"
      ]
     },
     "execution_count": 8,
     "metadata": {},
     "output_type": "execute_result"
    }
   ],
   "source": [
    "# Show my taxes!\n",
    "my_taxes"
   ]
  },
  {
   "cell_type": "markdown",
   "metadata": {},
   "source": [
    "אז מה למדנו? למדנו כמה מהיסודות של המספרים בפייתון. למדנו גם כיצד לעשות חשבון ולהשתמש בפייתון כמחשבון בסיסי. אז עטפנו את זה בלימוד על הקצאה משתנה בפייתון.\n",
    "\n",
    "בשלב הבא נלמד על מיתרים!\n"
   ]
  }
 ],
 "metadata": {
  "anaconda-cloud": {},
  "kernelspec": {
   "display_name": "Python 3",
   "language": "python",
   "name": "python3"
  },
  "language_info": {
   "codemirror_mode": {
    "name": "ipython",
    "version": 3
   },
   "file_extension": ".py",
   "mimetype": "text/x-python",
   "name": "python",
   "nbconvert_exporter": "python",
   "pygments_lexer": "ipython3",
   "version": "3.7.3"
  }
 },
 "nbformat": 4,
 "nbformat_minor": 1
}
