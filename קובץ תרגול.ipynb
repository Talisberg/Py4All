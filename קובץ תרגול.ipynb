{
 "cells": [
  {
   "cell_type": "markdown",
   "metadata": {},
   "source": [
    "# דף משימות"
   ]
  },
  {
   "cell_type": "code",
   "execution_count": 15,
   "metadata": {},
   "outputs": [],
   "source": [
    "treasure_map ={\n",
    "    \"lets\":\n",
    "        {\n",
    "            \"cook\":None,\n",
    "            \"look\":{\n",
    "                \"for\":[\"old\",\"bold\",123,\"gold\"]\n",
    "            },\n",
    "    \"book\":{\n",
    "        \"a\":\n",
    "            {\n",
    "                \"flight\":\"somewhere\"\n",
    "            }\n",
    "        }\n",
    "    }\n",
    "}"
   ]
  },
  {
   "cell_type": "markdown",
   "metadata": {},
   "source": [
    "1. לגשת לערך בתוך מילון מקונן לערך gold"
   ]
  },
  {
   "cell_type": "markdown",
   "metadata": {},
   "source": [
    "2. somewhere לגשת לערך"
   ]
  },
  {
   "cell_type": "code",
   "execution_count": null,
   "metadata": {},
   "outputs": [],
   "source": [
    "st= 'Corona Virus pandemic made me act pythonic'"
   ]
  },
  {
   "cell_type": "markdown",
   "metadata": {},
   "source": [
    "1. להדפיס את המשפט אך בדילוגים של 3 אותיות\n",
    "2. לפצל את המשפט למילים\n",
    "3. להפוך את כל המשפט לאותיות קטנות"
   ]
  },
  {
   "cell_type": "code",
   "execution_count": 22,
   "metadata": {},
   "outputs": [],
   "source": [
    "s = [1,2,3,4,5,6,7,8,9,10,3,6,10,24,2]"
   ]
  },
  {
   "cell_type": "markdown",
   "metadata": {},
   "source": [
    "1. נא להוסיף לרשימה זו את כל האיברים באינדקס האי זוגי ולעדכן אותה מחדש\n",
    "2. להוריד את המופעים הכפולים מהרשימה"
   ]
  },
  {
   "cell_type": "code",
   "execution_count": 20,
   "metadata": {},
   "outputs": [],
   "source": [
    "bs = [1,7,12300,4]"
   ]
  },
  {
   "cell_type": "markdown",
   "metadata": {},
   "source": [
    "### מצא איברים משותפים"
   ]
  },
  {
   "cell_type": "markdown",
   "metadata": {},
   "source": [
    "s,bs שתי רשימות\n",
    "\n",
    "מצא את האיברים המשותפים\n",
    "\n",
    "צרורות/ סטים מאפשרים שימוש במתודה שנקרית \n",
    "\n",
    "a.intersection(b)\n",
    "\n",
    "בין שני סטים"
   ]
  }
 ],
 "metadata": {
  "kernelspec": {
   "display_name": "Python 3",
   "language": "python",
   "name": "python3"
  },
  "language_info": {
   "name": ""
  }
 },
 "nbformat": 4,
 "nbformat_minor": 4
}
